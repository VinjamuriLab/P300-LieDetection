{
 "cells": [
  {
   "cell_type": "code",
   "execution_count": 1,
   "metadata": {},
   "outputs": [],
   "source": [
    "import torch \n",
    "import torchmetrics\n",
    "import torch.nn as nn\n",
    "from pytorch_lightning import LightningModule,Trainer\n",
    "from torch.utils.data import TensorDataset,DataLoader"
   ]
  },
  {
   "cell_type": "code",
   "execution_count": 7,
   "metadata": {},
   "outputs": [],
   "source": [
    "from dataset_ import EEG_inception\n",
    "import importlib\n",
    "import models_\n",
    "importlib.reload(models_)\n",
    "# Import models from the models module\n",
    "from models_ import ResNet1D, Bio, Conv1D_v2, EEGInceptionModel, ChronoNet\n"
   ]
  },
  {
   "cell_type": "markdown",
   "metadata": {},
   "source": [
    "### instantiating the lighting module for the model "
   ]
  },
  {
   "cell_type": "code",
   "execution_count": null,
   "metadata": {},
   "outputs": [],
   "source": [
    "from pytorch_lightning import LightningModule\n",
    "from torch.utils.data import DataLoader\n",
    "import torch\n",
    "import torch.nn as nn\n",
    "import torchmetrics\n",
    "from torch.optim.lr_scheduler import StepLR\n",
    "\n",
    "class ChronoModel(LightningModule):\n",
    "    def __init__(self, attribute):\n",
    "        super(ChronoModel, self).__init__()\n",
    "        self.attribute = attribute\n",
    "        self.model = attribute[\"model\"] # initialize the model\n",
    "        self.lr = attribute[\"lr\"]\n",
    "        self.bs = 64\n",
    "        self.worker = 1\n",
    "        self.acc = torchmetrics.Accuracy(task=\"binary\")\n",
    "     \n",
    "        self.criterion = nn.BCEWithLogitsLoss()\n",
    "    \n",
    "    def forward(self, x):\n",
    "        return self.model(x)\n",
    "    \n",
    "    def configure_optimizers(self):\n",
    "        # Create Adam optimizer\n",
    "        optimizer = torch.optim.Adam(self.parameters(), lr=self.lr)\n",
    "        \n",
    "        # Define a StepLR learning rate scheduler\n",
    "        scheduler = StepLR(optimizer, step_size=10, gamma=0.1)\n",
    "        \n",
    "        # Return both the optimizer and scheduler\n",
    "        return optimizer, scheduler\n",
    "\n",
    "    def configure_optimizers(self):\n",
    "        optimizer = torch.optim.Adam(self.parameters(), lr=0.001, weight_decay= )\n",
    "        scheduler = torch.optim.lr_scheduler.StepLR(optimizer, step_size=30, gamma=0.1)\n",
    "        return {\"optimizer\": optimizer, \"lr_scheduler\": scheduler}\n",
    "\n",
    "    def train_dataloader(self):\n",
    "        dataset = self.attribute[\"train_dataset\"]\n",
    "        return DataLoader(dataset, batch_size=self.bs, num_workers=self.worker, shuffle=True)\n",
    "\n",
    "    def val_dataloader(self):\n",
    "        dataset = self.attribute[\"val_dataset\"]\n",
    "        return DataLoader(dataset, batch_size=self.bs, num_workers=self.worker, shuffle=False)\n",
    "\n",
    "    def training_step(self, batch, batch_idx):\n",
    "        signal, label = batch\n",
    "        out = self(signal.float())\n",
    "        loss = self.criterion(out.flatten(), label.float().flatten())\n",
    "        preds = (torch.sigmoid(out.flatten()) > 0.5).long()\n",
    "        # print(preds.)\n",
    "        acc = self.acc(preds, label.long().flatten())\n",
    "        self.log('train_loss', loss, on_step=True, on_epoch=True, prog_bar=True, logger=True)\n",
    "        self.log('train_acc', acc, on_step=True, on_epoch=True, prog_bar=True, logger=True)\n",
    "        return loss\n",
    "\n",
    "    def validation_step(self, batch, batch_idx):\n",
    "        signal, label = batch\n",
    "        out = self(signal.float())\n",
    "        loss = self.criterion(out.flatten(), label.float().flatten())\n",
    "        preds = (torch.sigmoid(out.flatten()) > 0.5).long()\n",
    "        acc = self.acc(preds, label.long().flatten())\n",
    "        self.log('val_loss', loss, on_epoch=True, prog_bar=True, logger=True)\n",
    "        self.log('val_acc', acc, on_epoch=True, prog_bar=True, logger=True)\n",
    "        return loss\n",
    "    \n",
    "    def on_train_epoch_end(self):\n",
    "        # Retrieve the average training loss\n",
    "        train_loss = self.trainer.callback_metrics.get(\"train_loss_epoch\", None)\n",
    "        # Log the loss for each training step\n",
    "        if train_loss is not None:\n",
    "            self.print(f\"Epoch {self.current_epoch} - Training Loss: {train_loss:.4f}\")\n",
    "    \n",
    "\n",
    "    def on_validation_epoch_end(self):\n",
    "        # Retrieve the average validation loss\n",
    "        val_loss = self.trainer.callback_metrics.get(\"val_loss\", None)\n",
    "        if val_loss is not None:\n",
    "            self.print(f\"Epoch {self.current_epoch} - Validation Loss: {val_loss:.4f}\")\n"
   ]
  },
  {
   "cell_type": "code",
   "execution_count": 4,
   "metadata": {},
   "outputs": [
    {
     "name": "stdout",
     "output_type": "stream",
     "text": [
      "should be here \n"
     ]
    },
    {
     "name": "stderr",
     "output_type": "stream",
     "text": [
      "100%|██████████| 856/856 [00:00<00:00, 1857.53it/s]\n"
     ]
    },
    {
     "name": "stdout",
     "output_type": "stream",
     "text": [
      "(856, 8, 750) shap[e]\n"
     ]
    },
    {
     "name": "stderr",
     "output_type": "stream",
     "text": [
      "100%|██████████| 7650/7650 [00:18<00:00, 422.06it/s] \n"
     ]
    },
    {
     "name": "stdout",
     "output_type": "stream",
     "text": [
      "(856, 8, 750) in here dataset\n",
      "val main_job done 1350 856 856\n"
     ]
    },
    {
     "name": "stderr",
     "output_type": "stream",
     "text": [
      "100%|██████████| 7650/7650 [00:04<00:00, 1823.27it/s]\n"
     ]
    },
    {
     "name": "stdout",
     "output_type": "stream",
     "text": [
      "before (7650, 6000)\n",
      "7650 (10312, 8, 750) in smote\n",
      "(10312, 8, 750) shap[e]\n"
     ]
    },
    {
     "name": "stderr",
     "output_type": "stream",
     "text": [
      "100%|██████████| 7650/7650 [00:04<00:00, 1833.78it/s]\n"
     ]
    },
    {
     "name": "stdout",
     "output_type": "stream",
     "text": [
      "(10312, 8, 750) in here dataset\n",
      "train main_job done 10790 10312 10312\n"
     ]
    },
    {
     "name": "stderr",
     "output_type": "stream",
     "text": [
      "100%|██████████| 19384/19384 [01:46<00:00, 181.85it/s]\n"
     ]
    },
    {
     "name": "stdout",
     "output_type": "stream",
     "text": [
      "(19384, 8, 750) shap[e]\n"
     ]
    },
    {
     "name": "stderr",
     "output_type": "stream",
     "text": [
      "100%|██████████| 7650/7650 [00:09<00:00, 791.40it/s] \n"
     ]
    },
    {
     "name": "stdout",
     "output_type": "stream",
     "text": [
      "(19384, 8, 750) in here dataset\n",
      "train main_job done 10790 19384 19384\n"
     ]
    }
   ],
   "source": [
    "# train_datas\n",
    "val_dataset =  EEG_inception(kind = \"val\", normalize= 1)\n",
    "train_dataset_smote = EEG_inception(kind=\"train\", normalize= 1, balancing=\"smote\")\n",
    "train_dataset = EEG_inception(kind=\"train\", normalize= 1, balancing=\"inception\")\n",
    "\n",
    "lrs = [0.0001, 0.00005, 0.001]"
   ]
  },
  {
   "cell_type": "code",
   "execution_count": 8,
   "metadata": {},
   "outputs": [
    {
     "name": "stdout",
     "output_type": "stream",
     "text": [
      "Output of ResNet1D model: torch.Size([3, 1])\n",
      "Output of Bio model: torch.Size([3, 1])\n",
      "Output of Conv1D_v2 model: torch.Size([3, 1])\n",
      "Output of SimplifiedEEGInceptionModel: torch.Size([3, 1])\n",
      "Output of ChronoNet model: torch.Size([3, 1])\n"
     ]
    }
   ],
   "source": [
    "# Generate a random input tensor of shape (batch_size=3, channels=8, time_steps=900)\n",
    "x = torch.randn(3, 8, 750)\n",
    "\n",
    "# Initialize an empty list to store the models\n",
    "models = []\n",
    "\n",
    "# 1. Sanity check for ResNet1D\n",
    "model_1 = ResNet1D()\n",
    "models.append(model_1)\n",
    "output_1 = model_1(x)\n",
    "print(f\"Output of ResNet1D model: {output_1.shape}\")\n",
    "\n",
    "# 2. Sanity check for Bio model\n",
    "model_3 = Bio(input_size=8)\n",
    "models.append(model_3)\n",
    "output_3 = model_3(x)\n",
    "print(f\"Output of Bio model: {output_3.shape}\")\n",
    "\n",
    "# 3. Sanity check for Conv1D_v2\n",
    "model_4 = Conv1D_v2(channels=8)\n",
    "models.append(model_4)\n",
    "output_4 = model_4(x)\n",
    "print(f\"Output of Conv1D_v2 model: {output_4.shape}\")\n",
    "\n",
    "# 4. Sanity check for SimplifiedEEGInceptionModel\n",
    "model_5 = EEGInceptionModel(in_channels=8)\n",
    "models.append(model_5)\n",
    "output_5 = model_5(x)\n",
    "print(f\"Output of SimplifiedEEGInceptionModel: {output_5.shape}\")\n",
    "\n",
    "# 5. Sanity check for ChronoNet\n",
    "model_6 = ChronoNet(8)\n",
    "models.append(model_6)\n",
    "output_6 = model_6(x)\n",
    "print(f\"Output of ChronoNet model: {output_6.shape}\")\n"
   ]
  },
  {
   "cell_type": "code",
   "execution_count": 9,
   "metadata": {},
   "outputs": [],
   "source": [
    "attributes = {\n",
    "    1: {\"model\": ResNet1D(), \"train_dataset\": train_dataset, \"val_dataset\": val_dataset, \"lr\": 0.0001},\n",
    "    2: {\"model\": ResNet1D(), \"train_dataset\": train_dataset_smote, \"val_dataset\": val_dataset, \"lr\": 0.0001},\n",
    "    3: {\"model\": ResNet1D(), \"train_dataset\": train_dataset, \"val_dataset\": val_dataset, \"lr\": 0.0005},\n",
    "    4: {\"model\": ResNet1D(), \"train_dataset\": train_dataset_smote, \"val_dataset\": val_dataset, \"lr\": 0.0005},\n",
    "    \n",
    "    5: {\"model\": Bio(input_size=8), \"train_dataset\": train_dataset, \"val_dataset\": val_dataset, \"lr\": 0.0001},\n",
    "    6: {\"model\": Bio(input_size=8), \"train_dataset\": train_dataset_smote, \"val_dataset\": val_dataset, \"lr\": 0.0001},\n",
    "    7: {\"model\": Bio(input_size=8), \"train_dataset\": train_dataset, \"val_dataset\": val_dataset, \"lr\": 0.0005},\n",
    "    8: {\"model\": Bio(input_size=8), \"train_dataset\": train_dataset_smote, \"val_dataset\": val_dataset, \"lr\": 0.0005},\n",
    "    \n",
    "    9: {\"model\": Conv1D_v2(channels=8), \"train_dataset\": train_dataset, \"val_dataset\": val_dataset, \"lr\": 0.0001},\n",
    "    10: {\"model\": Conv1D_v2(channels=8), \"train_dataset\": train_dataset_smote, \"val_dataset\": val_dataset, \"lr\": 0.0001},\n",
    "    11: {\"model\": Conv1D_v2(channels=8), \"train_dataset\": train_dataset, \"val_dataset\": val_dataset, \"lr\": 0.0005},\n",
    "    12: {\"model\": Conv1D_v2(channels=8), \"train_dataset\": train_dataset_smote, \"val_dataset\": val_dataset, \"lr\": 0.0005},\n",
    "    \n",
    "    13: {\"model\": EEGInceptionModel(in_channels=8), \"train_dataset\": train_dataset, \"val_dataset\": val_dataset, \"lr\": 0.0001},\n",
    "    14: {\"model\": EEGInceptionModel(in_channels=8), \"train_dataset\": train_dataset_smote, \"val_dataset\": val_dataset, \"lr\": 0.0001},\n",
    "    15: {\"model\": EEGInceptionModel(in_channels=8), \"train_dataset\": train_dataset, \"val_dataset\": val_dataset, \"lr\": 0.0005},\n",
    "    16: {\"model\": EEGInceptionModel(in_channels=8), \"train_dataset\": train_dataset_smote, \"val_dataset\": val_dataset, \"lr\": 0.0005},\n",
    "    \n",
    "    17: {\"model\": ChronoNet(channel=8), \"train_dataset\": train_dataset, \"val_dataset\": val_dataset, \"lr\": 0.0001},\n",
    "    18: {\"model\": ChronoNet(channel=8), \"train_dataset\": train_dataset_smote, \"val_dataset\": val_dataset, \"lr\": 0.0001},\n",
    "    19: {\"model\": ChronoNet(channel=8), \"train_dataset\": train_dataset, \"val_dataset\": val_dataset, \"lr\": 0.0005},\n",
    "    20: {\"model\": ChronoNet(channel=8), \"train_dataset\": train_dataset_smote, \"val_dataset\": val_dataset, \"lr\": 0.0005}\n",
    "}"
   ]
  },
  {
   "cell_type": "code",
   "execution_count": null,
   "metadata": {},
   "outputs": [
    {
     "name": "stderr",
     "output_type": "stream",
     "text": [
      "GPU available: True (cuda), used: True\n",
      "TPU available: False, using: 0 TPU cores\n",
      "HPU available: False, using: 0 HPUs\n",
      "You are using a CUDA device ('NVIDIA GeForce RTX 4070 Ti') that has Tensor Cores. To properly utilize them, you should set `torch.set_float32_matmul_precision('medium' | 'high')` which will trade-off precision for performance. For more details, read https://pytorch.org/docs/stable/generated/torch.set_float32_matmul_precision.html#torch.set_float32_matmul_precision\n"
     ]
    },
    {
     "name": "stdout",
     "output_type": "stream",
     "text": [
      "<dataset_.EEG_inception object at 0x0000015D8E6304D0>_0.0001\n",
      "ResNet1D here\n",
      "ResNet1D here\n",
      "Training model: ResNet1D_lr_0.0001_dataset_train_dataset\n"
     ]
    },
    {
     "name": "stderr",
     "output_type": "stream",
     "text": [
      "LOCAL_RANK: 0 - CUDA_VISIBLE_DEVICES: [0]\n",
      "\n",
      "  | Name      | Type              | Params | Mode \n",
      "--------------------------------------------------------\n",
      "0 | model     | ResNet1D          | 1.5 M  | train\n",
      "1 | acc       | BinaryAccuracy    | 0      | train\n",
      "2 | criterion | BCEWithLogitsLoss | 0      | train\n",
      "--------------------------------------------------------\n",
      "1.5 M     Trainable params\n",
      "0         Non-trainable params\n",
      "1.5 M     Total params\n",
      "5.906     Total estimated model params size (MB)\n"
     ]
    },
    {
     "data": {
      "application/vnd.jupyter.widget-view+json": {
       "model_id": "ee4efe6fc9614e5b8c5632c0592a71ba",
       "version_major": 2,
       "version_minor": 0
      },
      "text/plain": [
       "Sanity Checking: |          | 0/? [00:00<?, ?it/s]"
      ]
     },
     "metadata": {},
     "output_type": "display_data"
    },
    {
     "name": "stderr",
     "output_type": "stream",
     "text": [
      "c:\\Users\\zokov\\.conda\\envs\\py3\\Lib\\site-packages\\pytorch_lightning\\trainer\\connectors\\data_connector.py:419: Consider setting `persistent_workers=True` in 'val_dataloader' to speed up the dataloader worker initialization.\n",
      "c:\\Users\\zokov\\.conda\\envs\\py3\\Lib\\site-packages\\torch\\nn\\modules\\conv.py:306: UserWarning: Plan failed with a cudnnException: CUDNN_BACKEND_EXECUTION_PLAN_DESCRIPTOR: cudnnFinalize Descriptor Failed cudnn_status: CUDNN_STATUS_NOT_SUPPORTED (Triggered internally at C:\\cb\\pytorch_1000000000000\\work\\aten\\src\\ATen\\native\\cudnn\\Conv_v8.cpp:919.)\n",
      "  return F.conv1d(input, weight, bias, self.stride,\n",
      "c:\\Users\\zokov\\.conda\\envs\\py3\\Lib\\site-packages\\pytorch_lightning\\trainer\\connectors\\data_connector.py:419: Consider setting `persistent_workers=True` in 'train_dataloader' to speed up the dataloader worker initialization.\n"
     ]
    },
    {
     "name": "stdout",
     "output_type": "stream",
     "text": [
      "Epoch 0 - Validation Loss: 0.6942\n"
     ]
    },
    {
     "data": {
      "application/vnd.jupyter.widget-view+json": {
       "model_id": "72a097c572064693937cc41e0b0dd46f",
       "version_major": 2,
       "version_minor": 0
      },
      "text/plain": [
       "Training: |          | 0/? [00:00<?, ?it/s]"
      ]
     },
     "metadata": {},
     "output_type": "display_data"
    },
    {
     "name": "stderr",
     "output_type": "stream",
     "text": [
      "c:\\Users\\zokov\\.conda\\envs\\py3\\Lib\\site-packages\\torch\\autograd\\graph.py:744: UserWarning: Plan failed with a cudnnException: CUDNN_BACKEND_EXECUTION_PLAN_DESCRIPTOR: cudnnFinalize Descriptor Failed cudnn_status: CUDNN_STATUS_NOT_SUPPORTED (Triggered internally at C:\\cb\\pytorch_1000000000000\\work\\aten\\src\\ATen\\native\\cudnn\\Conv_v8.cpp:919.)\n",
      "  return Variable._execution_engine.run_backward(  # Calls into the C++ engine to run the backward pass\n"
     ]
    },
    {
     "data": {
      "application/vnd.jupyter.widget-view+json": {
       "model_id": "d2a6446942284321bcd337a1205ee387",
       "version_major": 2,
       "version_minor": 0
      },
      "text/plain": [
       "Validation: |          | 0/? [00:00<?, ?it/s]"
      ]
     },
     "metadata": {},
     "output_type": "display_data"
    },
    {
     "name": "stderr",
     "output_type": "stream",
     "text": [
      "Metric val_loss improved. New best score: 0.773\n",
      "Epoch 0, global step 303: 'val_loss' reached 0.77269 (best 0.77269), saving model to 'D:\\\\Vikas\\\\lie_detection\\\\BrainWaves\\\\checkpoints_v1\\\\ResNet1D_lr_0.0001_dataset_train_dataset\\\\epoch=0_valacc_val_acc=0.5129_trainacc_train_acc=0.5615.ckpt' as top 3\n"
     ]
    },
    {
     "name": "stdout",
     "output_type": "stream",
     "text": [
      "Epoch 0 - Validation Loss: 0.7727\n",
      "Epoch 0 - Training Loss: 0.6888\n"
     ]
    },
    {
     "data": {
      "application/vnd.jupyter.widget-view+json": {
       "model_id": "60a0376acb5a4eb1897bf8153feeac74",
       "version_major": 2,
       "version_minor": 0
      },
      "text/plain": [
       "Validation: |          | 0/? [00:00<?, ?it/s]"
      ]
     },
     "metadata": {},
     "output_type": "display_data"
    },
    {
     "name": "stderr",
     "output_type": "stream",
     "text": [
      "Epoch 1, global step 606: 'val_loss' reached 0.79222 (best 0.77269), saving model to 'D:\\\\Vikas\\\\lie_detection\\\\BrainWaves\\\\checkpoints_v1\\\\ResNet1D_lr_0.0001_dataset_train_dataset\\\\epoch=1_valacc_val_acc=0.4860_trainacc_train_acc=0.5686.ckpt' as top 3\n"
     ]
    },
    {
     "name": "stdout",
     "output_type": "stream",
     "text": [
      "Epoch 1 - Validation Loss: 0.7922\n",
      "Epoch 1 - Training Loss: 0.6802\n"
     ]
    },
    {
     "data": {
      "application/vnd.jupyter.widget-view+json": {
       "model_id": "adbfac76e2c2424d8f0fcce5f1ba90c7",
       "version_major": 2,
       "version_minor": 0
      },
      "text/plain": [
       "Validation: |          | 0/? [00:00<?, ?it/s]"
      ]
     },
     "metadata": {},
     "output_type": "display_data"
    },
    {
     "name": "stderr",
     "output_type": "stream",
     "text": [
      "Metric val_loss improved by 0.101 >= min_delta = 0.0. New best score: 0.672\n",
      "Epoch 2, global step 909: 'val_loss' reached 0.67178 (best 0.67178), saving model to 'D:\\\\Vikas\\\\lie_detection\\\\BrainWaves\\\\checkpoints_v1\\\\ResNet1D_lr_0.0001_dataset_train_dataset\\\\epoch=2_valacc_val_acc=0.5853_trainacc_train_acc=0.5781.ckpt' as top 3\n"
     ]
    },
    {
     "name": "stdout",
     "output_type": "stream",
     "text": [
      "Epoch 2 - Validation Loss: 0.6718\n",
      "Epoch 2 - Training Loss: 0.6757\n"
     ]
    },
    {
     "data": {
      "application/vnd.jupyter.widget-view+json": {
       "model_id": "e1f7d13440b44494811c132548486d51",
       "version_major": 2,
       "version_minor": 0
      },
      "text/plain": [
       "Validation: |          | 0/? [00:00<?, ?it/s]"
      ]
     },
     "metadata": {},
     "output_type": "display_data"
    },
    {
     "name": "stderr",
     "output_type": "stream",
     "text": [
      "Metric val_loss improved by 0.007 >= min_delta = 0.0. New best score: 0.665\n",
      "Epoch 3, global step 1212: 'val_loss' reached 0.66451 (best 0.66451), saving model to 'D:\\\\Vikas\\\\lie_detection\\\\BrainWaves\\\\checkpoints_v1\\\\ResNet1D_lr_0.0001_dataset_train_dataset\\\\epoch=3_valacc_val_acc=0.5970_trainacc_train_acc=0.5899.ckpt' as top 3\n"
     ]
    },
    {
     "name": "stdout",
     "output_type": "stream",
     "text": [
      "Epoch 3 - Validation Loss: 0.6645\n",
      "Epoch 3 - Training Loss: 0.6703\n"
     ]
    },
    {
     "data": {
      "application/vnd.jupyter.widget-view+json": {
       "model_id": "da33e1e422a2433d82fe5f5ca21a92f0",
       "version_major": 2,
       "version_minor": 0
      },
      "text/plain": [
       "Validation: |          | 0/? [00:00<?, ?it/s]"
      ]
     },
     "metadata": {},
     "output_type": "display_data"
    },
    {
     "name": "stderr",
     "output_type": "stream",
     "text": [
      "Epoch 4, global step 1515: 'val_loss' reached 0.68754 (best 0.66451), saving model to 'D:\\\\Vikas\\\\lie_detection\\\\BrainWaves\\\\checkpoints_v1\\\\ResNet1D_lr_0.0001_dataset_train_dataset\\\\epoch=4_valacc_val_acc=0.5713_trainacc_train_acc=0.5901.ckpt' as top 3\n"
     ]
    },
    {
     "name": "stdout",
     "output_type": "stream",
     "text": [
      "Epoch 4 - Validation Loss: 0.6875\n",
      "Epoch 4 - Training Loss: 0.6690\n"
     ]
    },
    {
     "data": {
      "application/vnd.jupyter.widget-view+json": {
       "model_id": "afd081f1ce1342548c7aa297e107cf8b",
       "version_major": 2,
       "version_minor": 0
      },
      "text/plain": [
       "Validation: |          | 0/? [00:00<?, ?it/s]"
      ]
     },
     "metadata": {},
     "output_type": "display_data"
    },
    {
     "name": "stderr",
     "output_type": "stream",
     "text": [
      "Metric val_loss improved by 0.001 >= min_delta = 0.0. New best score: 0.663\n",
      "Epoch 5, global step 1818: 'val_loss' reached 0.66334 (best 0.66334), saving model to 'D:\\\\Vikas\\\\lie_detection\\\\BrainWaves\\\\checkpoints_v1\\\\ResNet1D_lr_0.0001_dataset_train_dataset\\\\epoch=5_valacc_val_acc=0.6227_trainacc_train_acc=0.6094.ckpt' as top 3\n"
     ]
    },
    {
     "name": "stdout",
     "output_type": "stream",
     "text": [
      "Epoch 5 - Validation Loss: 0.6633\n",
      "Epoch 5 - Training Loss: 0.6616\n"
     ]
    },
    {
     "data": {
      "application/vnd.jupyter.widget-view+json": {
       "model_id": "d9238e2c7c0d436b97bbc7adc38fe80a",
       "version_major": 2,
       "version_minor": 0
      },
      "text/plain": [
       "Validation: |          | 0/? [00:00<?, ?it/s]"
      ]
     },
     "metadata": {},
     "output_type": "display_data"
    },
    {
     "name": "stderr",
     "output_type": "stream",
     "text": [
      "Metric val_loss improved by 0.015 >= min_delta = 0.0. New best score: 0.649\n",
      "Epoch 6, global step 2121: 'val_loss' reached 0.64869 (best 0.64869), saving model to 'D:\\\\Vikas\\\\lie_detection\\\\BrainWaves\\\\checkpoints_v1\\\\ResNet1D_lr_0.0001_dataset_train_dataset\\\\epoch=6_valacc_val_acc=0.6238_trainacc_train_acc=0.6122.ckpt' as top 3\n"
     ]
    },
    {
     "name": "stdout",
     "output_type": "stream",
     "text": [
      "Epoch 6 - Validation Loss: 0.6487\n",
      "Epoch 6 - Training Loss: 0.6551\n"
     ]
    },
    {
     "data": {
      "application/vnd.jupyter.widget-view+json": {
       "model_id": "f37ab851af004eae964127088b17134c",
       "version_major": 2,
       "version_minor": 0
      },
      "text/plain": [
       "Validation: |          | 0/? [00:00<?, ?it/s]"
      ]
     },
     "metadata": {},
     "output_type": "display_data"
    },
    {
     "name": "stderr",
     "output_type": "stream",
     "text": [
      "Epoch 7, global step 2424: 'val_loss' reached 0.66239 (best 0.64869), saving model to 'D:\\\\Vikas\\\\lie_detection\\\\BrainWaves\\\\checkpoints_v1\\\\ResNet1D_lr_0.0001_dataset_train_dataset\\\\epoch=7_valacc_val_acc=0.6040_trainacc_train_acc=0.6304.ckpt' as top 3\n"
     ]
    },
    {
     "name": "stdout",
     "output_type": "stream",
     "text": [
      "Epoch 7 - Validation Loss: 0.6624\n",
      "Epoch 7 - Training Loss: 0.6443\n"
     ]
    },
    {
     "data": {
      "application/vnd.jupyter.widget-view+json": {
       "model_id": "76af9c444382462195257ebee2467122",
       "version_major": 2,
       "version_minor": 0
      },
      "text/plain": [
       "Validation: |          | 0/? [00:00<?, ?it/s]"
      ]
     },
     "metadata": {},
     "output_type": "display_data"
    },
    {
     "name": "stderr",
     "output_type": "stream",
     "text": [
      "Metric val_loss improved by 0.009 >= min_delta = 0.0. New best score: 0.640\n",
      "Epoch 8, global step 2727: 'val_loss' reached 0.63973 (best 0.63973), saving model to 'D:\\\\Vikas\\\\lie_detection\\\\BrainWaves\\\\checkpoints_v1\\\\ResNet1D_lr_0.0001_dataset_train_dataset\\\\epoch=8_valacc_val_acc=0.6449_trainacc_train_acc=0.6357.ckpt' as top 3\n"
     ]
    },
    {
     "name": "stdout",
     "output_type": "stream",
     "text": [
      "Epoch 8 - Validation Loss: 0.6397\n",
      "Epoch 8 - Training Loss: 0.6398\n"
     ]
    },
    {
     "data": {
      "application/vnd.jupyter.widget-view+json": {
       "model_id": "e8a3df2cd43a41e889f6634555134a2d",
       "version_major": 2,
       "version_minor": 0
      },
      "text/plain": [
       "Validation: |          | 0/? [00:00<?, ?it/s]"
      ]
     },
     "metadata": {},
     "output_type": "display_data"
    },
    {
     "name": "stderr",
     "output_type": "stream",
     "text": [
      "Epoch 9, global step 3030: 'val_loss' reached 0.65609 (best 0.63973), saving model to 'D:\\\\Vikas\\\\lie_detection\\\\BrainWaves\\\\checkpoints_v1\\\\ResNet1D_lr_0.0001_dataset_train_dataset\\\\epoch=9_valacc_val_acc=0.6297_trainacc_train_acc=0.6391.ckpt' as top 3\n"
     ]
    },
    {
     "name": "stdout",
     "output_type": "stream",
     "text": [
      "Epoch 9 - Validation Loss: 0.6561\n",
      "Epoch 9 - Training Loss: 0.6357\n"
     ]
    },
    {
     "data": {
      "application/vnd.jupyter.widget-view+json": {
       "model_id": "0cdf8b4aa70348278b2e33955c63b0bb",
       "version_major": 2,
       "version_minor": 0
      },
      "text/plain": [
       "Validation: |          | 0/? [00:00<?, ?it/s]"
      ]
     },
     "metadata": {},
     "output_type": "display_data"
    },
    {
     "name": "stderr",
     "output_type": "stream",
     "text": [
      "Metric val_loss improved by 0.010 >= min_delta = 0.0. New best score: 0.629\n",
      "Epoch 10, global step 3333: 'val_loss' reached 0.62944 (best 0.62944), saving model to 'D:\\\\Vikas\\\\lie_detection\\\\BrainWaves\\\\checkpoints_v1\\\\ResNet1D_lr_0.0001_dataset_train_dataset\\\\epoch=10_valacc_val_acc=0.6589_trainacc_train_acc=0.6457.ckpt' as top 3\n"
     ]
    },
    {
     "name": "stdout",
     "output_type": "stream",
     "text": [
      "Epoch 10 - Validation Loss: 0.6294\n",
      "Epoch 10 - Training Loss: 0.6300\n"
     ]
    },
    {
     "data": {
      "application/vnd.jupyter.widget-view+json": {
       "model_id": "04bdd17e7fad41d5ad6985ccd30a84c2",
       "version_major": 2,
       "version_minor": 0
      },
      "text/plain": [
       "Validation: |          | 0/? [00:00<?, ?it/s]"
      ]
     },
     "metadata": {},
     "output_type": "display_data"
    },
    {
     "name": "stderr",
     "output_type": "stream",
     "text": [
      "Epoch 11, global step 3636: 'val_loss' was not in top 3\n"
     ]
    },
    {
     "name": "stdout",
     "output_type": "stream",
     "text": [
      "Epoch 11 - Validation Loss: 0.6564\n",
      "Epoch 11 - Training Loss: 0.6264\n"
     ]
    },
    {
     "data": {
      "application/vnd.jupyter.widget-view+json": {
       "model_id": "9e67fcf91c5d495d830c0fef9afa5e38",
       "version_major": 2,
       "version_minor": 0
      },
      "text/plain": [
       "Validation: |          | 0/? [00:00<?, ?it/s]"
      ]
     },
     "metadata": {},
     "output_type": "display_data"
    },
    {
     "name": "stderr",
     "output_type": "stream",
     "text": [
      "Epoch 12, global step 3939: 'val_loss' was not in top 3\n"
     ]
    },
    {
     "name": "stdout",
     "output_type": "stream",
     "text": [
      "Epoch 12 - Validation Loss: 0.6549\n",
      "Epoch 12 - Training Loss: 0.6218\n"
     ]
    },
    {
     "data": {
      "application/vnd.jupyter.widget-view+json": {
       "model_id": "45383fef0a6c47f8a03e5c8175d2af29",
       "version_major": 2,
       "version_minor": 0
      },
      "text/plain": [
       "Validation: |          | 0/? [00:00<?, ?it/s]"
      ]
     },
     "metadata": {},
     "output_type": "display_data"
    },
    {
     "name": "stderr",
     "output_type": "stream",
     "text": [
      "Epoch 13, global step 4242: 'val_loss' was not in top 3\n"
     ]
    },
    {
     "name": "stdout",
     "output_type": "stream",
     "text": [
      "Epoch 13 - Validation Loss: 0.6553\n",
      "Epoch 13 - Training Loss: 0.6175\n"
     ]
    },
    {
     "data": {
      "application/vnd.jupyter.widget-view+json": {
       "model_id": "9ecc4d8b58964b4f8e06cfb0da5cbf40",
       "version_major": 2,
       "version_minor": 0
      },
      "text/plain": [
       "Validation: |          | 0/? [00:00<?, ?it/s]"
      ]
     },
     "metadata": {},
     "output_type": "display_data"
    },
    {
     "name": "stderr",
     "output_type": "stream",
     "text": [
      "Epoch 14, global step 4545: 'val_loss' was not in top 3\n"
     ]
    },
    {
     "name": "stdout",
     "output_type": "stream",
     "text": [
      "Epoch 14 - Validation Loss: 0.7162\n",
      "Epoch 14 - Training Loss: 0.6102\n"
     ]
    },
    {
     "data": {
      "application/vnd.jupyter.widget-view+json": {
       "model_id": "9b9231d491e84e2c8975ed1a4406ad48",
       "version_major": 2,
       "version_minor": 0
      },
      "text/plain": [
       "Validation: |          | 0/? [00:00<?, ?it/s]"
      ]
     },
     "metadata": {},
     "output_type": "display_data"
    },
    {
     "name": "stderr",
     "output_type": "stream",
     "text": [
      "Epoch 15, global step 4848: 'val_loss' reached 0.63451 (best 0.62944), saving model to 'D:\\\\Vikas\\\\lie_detection\\\\BrainWaves\\\\checkpoints_v1\\\\ResNet1D_lr_0.0001_dataset_train_dataset\\\\epoch=15_valacc_val_acc=0.6495_trainacc_train_acc=0.6716.ckpt' as top 3\n"
     ]
    },
    {
     "name": "stdout",
     "output_type": "stream",
     "text": [
      "Epoch 15 - Validation Loss: 0.6345\n",
      "Epoch 15 - Training Loss: 0.6027\n"
     ]
    },
    {
     "data": {
      "application/vnd.jupyter.widget-view+json": {
       "model_id": "cdc0ebf14b104e5a9d00035a48156f63",
       "version_major": 2,
       "version_minor": 0
      },
      "text/plain": [
       "Validation: |          | 0/? [00:00<?, ?it/s]"
      ]
     },
     "metadata": {},
     "output_type": "display_data"
    },
    {
     "name": "stderr",
     "output_type": "stream",
     "text": [
      "Epoch 16, global step 5151: 'val_loss' was not in top 3\n"
     ]
    },
    {
     "name": "stdout",
     "output_type": "stream",
     "text": [
      "Epoch 16 - Validation Loss: 0.6630\n",
      "Epoch 16 - Training Loss: 0.5912\n"
     ]
    },
    {
     "data": {
      "application/vnd.jupyter.widget-view+json": {
       "model_id": "b4f5cd71962e4451979295cc3ffd874d",
       "version_major": 2,
       "version_minor": 0
      },
      "text/plain": [
       "Validation: |          | 0/? [00:00<?, ?it/s]"
      ]
     },
     "metadata": {},
     "output_type": "display_data"
    },
    {
     "name": "stderr",
     "output_type": "stream",
     "text": [
      "Epoch 17, global step 5454: 'val_loss' was not in top 3\n"
     ]
    },
    {
     "name": "stdout",
     "output_type": "stream",
     "text": [
      "Epoch 17 - Validation Loss: 0.6430\n",
      "Epoch 17 - Training Loss: 0.5875\n"
     ]
    },
    {
     "data": {
      "application/vnd.jupyter.widget-view+json": {
       "model_id": "f492b5667fde4f69be36665ecc86c44a",
       "version_major": 2,
       "version_minor": 0
      },
      "text/plain": [
       "Validation: |          | 0/? [00:00<?, ?it/s]"
      ]
     },
     "metadata": {},
     "output_type": "display_data"
    },
    {
     "name": "stderr",
     "output_type": "stream",
     "text": [
      "Epoch 18, global step 5757: 'val_loss' was not in top 3\n"
     ]
    },
    {
     "name": "stdout",
     "output_type": "stream",
     "text": [
      "Epoch 18 - Validation Loss: 0.6775\n",
      "Epoch 18 - Training Loss: 0.5761\n"
     ]
    },
    {
     "data": {
      "application/vnd.jupyter.widget-view+json": {
       "model_id": "e547d56d572b48cda8cb5a92dbf89221",
       "version_major": 2,
       "version_minor": 0
      },
      "text/plain": [
       "Validation: |          | 0/? [00:00<?, ?it/s]"
      ]
     },
     "metadata": {},
     "output_type": "display_data"
    },
    {
     "name": "stderr",
     "output_type": "stream",
     "text": [
      "Metric val_loss improved by 0.006 >= min_delta = 0.0. New best score: 0.624\n",
      "Epoch 19, global step 6060: 'val_loss' reached 0.62388 (best 0.62388), saving model to 'D:\\\\Vikas\\\\lie_detection\\\\BrainWaves\\\\checkpoints_v1\\\\ResNet1D_lr_0.0001_dataset_train_dataset\\\\epoch=19_valacc_val_acc=0.6799_trainacc_train_acc=0.7043.ckpt' as top 3\n"
     ]
    },
    {
     "name": "stdout",
     "output_type": "stream",
     "text": [
      "Epoch 19 - Validation Loss: 0.6239\n",
      "Epoch 19 - Training Loss: 0.5687\n"
     ]
    },
    {
     "data": {
      "application/vnd.jupyter.widget-view+json": {
       "model_id": "a003ccd5ee5d453aba23003521fc7c67",
       "version_major": 2,
       "version_minor": 0
      },
      "text/plain": [
       "Validation: |          | 0/? [00:00<?, ?it/s]"
      ]
     },
     "metadata": {},
     "output_type": "display_data"
    },
    {
     "name": "stderr",
     "output_type": "stream",
     "text": [
      "Epoch 20, global step 6363: 'val_loss' was not in top 3\n"
     ]
    },
    {
     "name": "stdout",
     "output_type": "stream",
     "text": [
      "Epoch 20 - Validation Loss: 0.6509\n",
      "Epoch 20 - Training Loss: 0.5528\n"
     ]
    },
    {
     "data": {
      "application/vnd.jupyter.widget-view+json": {
       "model_id": "303f917df1d04a51a44cb0e55a64a431",
       "version_major": 2,
       "version_minor": 0
      },
      "text/plain": [
       "Validation: |          | 0/? [00:00<?, ?it/s]"
      ]
     },
     "metadata": {},
     "output_type": "display_data"
    },
    {
     "name": "stderr",
     "output_type": "stream",
     "text": [
      "Metric val_loss improved by 0.009 >= min_delta = 0.0. New best score: 0.615\n",
      "Epoch 21, global step 6666: 'val_loss' reached 0.61523 (best 0.61523), saving model to 'D:\\\\Vikas\\\\lie_detection\\\\BrainWaves\\\\checkpoints_v1\\\\ResNet1D_lr_0.0001_dataset_train_dataset\\\\epoch=21_valacc_val_acc=0.6741_trainacc_train_acc=0.7222.ckpt' as top 3\n"
     ]
    },
    {
     "name": "stdout",
     "output_type": "stream",
     "text": [
      "Epoch 21 - Validation Loss: 0.6152\n",
      "Epoch 21 - Training Loss: 0.5432\n"
     ]
    },
    {
     "data": {
      "application/vnd.jupyter.widget-view+json": {
       "model_id": "f0056ba6c4a942ce98ca301ad8807338",
       "version_major": 2,
       "version_minor": 0
      },
      "text/plain": [
       "Validation: |          | 0/? [00:00<?, ?it/s]"
      ]
     },
     "metadata": {},
     "output_type": "display_data"
    },
    {
     "name": "stderr",
     "output_type": "stream",
     "text": [
      "Epoch 22, global step 6969: 'val_loss' was not in top 3\n"
     ]
    },
    {
     "name": "stdout",
     "output_type": "stream",
     "text": [
      "Epoch 22 - Validation Loss: 0.6706\n",
      "Epoch 22 - Training Loss: 0.5303\n"
     ]
    },
    {
     "data": {
      "application/vnd.jupyter.widget-view+json": {
       "model_id": "92703aad7738440da6c37c5d1c3c1eb5",
       "version_major": 2,
       "version_minor": 0
      },
      "text/plain": [
       "Validation: |          | 0/? [00:00<?, ?it/s]"
      ]
     },
     "metadata": {},
     "output_type": "display_data"
    },
    {
     "name": "stderr",
     "output_type": "stream",
     "text": [
      "Epoch 23, global step 7272: 'val_loss' was not in top 3\n"
     ]
    },
    {
     "name": "stdout",
     "output_type": "stream",
     "text": [
      "Epoch 23 - Validation Loss: 0.6433\n",
      "Epoch 23 - Training Loss: 0.5171\n"
     ]
    },
    {
     "data": {
      "application/vnd.jupyter.widget-view+json": {
       "model_id": "fb95aefed76a4c97855afb02830d5b19",
       "version_major": 2,
       "version_minor": 0
      },
      "text/plain": [
       "Validation: |          | 0/? [00:00<?, ?it/s]"
      ]
     },
     "metadata": {},
     "output_type": "display_data"
    },
    {
     "name": "stderr",
     "output_type": "stream",
     "text": [
      "Epoch 24, global step 7575: 'val_loss' was not in top 3\n"
     ]
    },
    {
     "name": "stdout",
     "output_type": "stream",
     "text": [
      "Epoch 24 - Validation Loss: 0.6966\n",
      "Epoch 24 - Training Loss: 0.5062\n"
     ]
    },
    {
     "data": {
      "application/vnd.jupyter.widget-view+json": {
       "model_id": "82348033968e4d64bb2310276e0e6012",
       "version_major": 2,
       "version_minor": 0
      },
      "text/plain": [
       "Validation: |          | 0/? [00:00<?, ?it/s]"
      ]
     },
     "metadata": {},
     "output_type": "display_data"
    },
    {
     "name": "stderr",
     "output_type": "stream",
     "text": [
      "Epoch 25, global step 7878: 'val_loss' was not in top 3\n"
     ]
    },
    {
     "name": "stdout",
     "output_type": "stream",
     "text": [
      "Epoch 25 - Validation Loss: 0.6477\n",
      "Epoch 25 - Training Loss: 0.4905\n"
     ]
    },
    {
     "data": {
      "application/vnd.jupyter.widget-view+json": {
       "model_id": "f25902e94e4b459db86fb290f07eff30",
       "version_major": 2,
       "version_minor": 0
      },
      "text/plain": [
       "Validation: |          | 0/? [00:00<?, ?it/s]"
      ]
     },
     "metadata": {},
     "output_type": "display_data"
    },
    {
     "name": "stderr",
     "output_type": "stream",
     "text": [
      "Epoch 26, global step 8181: 'val_loss' was not in top 3\n"
     ]
    },
    {
     "name": "stdout",
     "output_type": "stream",
     "text": [
      "Epoch 26 - Validation Loss: 0.6718\n",
      "Epoch 26 - Training Loss: 0.4792\n"
     ]
    },
    {
     "data": {
      "application/vnd.jupyter.widget-view+json": {
       "model_id": "e8b89031f4e84f4586db31d265500198",
       "version_major": 2,
       "version_minor": 0
      },
      "text/plain": [
       "Validation: |          | 0/? [00:00<?, ?it/s]"
      ]
     },
     "metadata": {},
     "output_type": "display_data"
    },
    {
     "name": "stderr",
     "output_type": "stream",
     "text": [
      "Epoch 27, global step 8484: 'val_loss' was not in top 3\n"
     ]
    },
    {
     "name": "stdout",
     "output_type": "stream",
     "text": [
      "Epoch 27 - Validation Loss: 0.6992\n",
      "Epoch 27 - Training Loss: 0.4607\n"
     ]
    },
    {
     "data": {
      "application/vnd.jupyter.widget-view+json": {
       "model_id": "06d0300e9c8c4956a60bee6353d57421",
       "version_major": 2,
       "version_minor": 0
      },
      "text/plain": [
       "Validation: |          | 0/? [00:00<?, ?it/s]"
      ]
     },
     "metadata": {},
     "output_type": "display_data"
    },
    {
     "name": "stderr",
     "output_type": "stream",
     "text": [
      "Epoch 28, global step 8787: 'val_loss' was not in top 3\n"
     ]
    },
    {
     "name": "stdout",
     "output_type": "stream",
     "text": [
      "Epoch 28 - Validation Loss: 0.6676\n",
      "Epoch 28 - Training Loss: 0.4409\n"
     ]
    },
    {
     "data": {
      "application/vnd.jupyter.widget-view+json": {
       "model_id": "0e15de7ab0b24b4ba6e0637f67ee5bcf",
       "version_major": 2,
       "version_minor": 0
      },
      "text/plain": [
       "Validation: |          | 0/? [00:00<?, ?it/s]"
      ]
     },
     "metadata": {},
     "output_type": "display_data"
    },
    {
     "name": "stderr",
     "output_type": "stream",
     "text": [
      "Epoch 29, global step 9090: 'val_loss' was not in top 3\n"
     ]
    },
    {
     "name": "stdout",
     "output_type": "stream",
     "text": [
      "Epoch 29 - Validation Loss: 0.7148\n",
      "Epoch 29 - Training Loss: 0.4227\n"
     ]
    },
    {
     "data": {
      "application/vnd.jupyter.widget-view+json": {
       "model_id": "f961ac7dcb7b4ca59e42094ecf67c39a",
       "version_major": 2,
       "version_minor": 0
      },
      "text/plain": [
       "Validation: |          | 0/? [00:00<?, ?it/s]"
      ]
     },
     "metadata": {},
     "output_type": "display_data"
    },
    {
     "name": "stderr",
     "output_type": "stream",
     "text": [
      "Epoch 30, global step 9393: 'val_loss' was not in top 3\n"
     ]
    },
    {
     "name": "stdout",
     "output_type": "stream",
     "text": [
      "Epoch 30 - Validation Loss: 0.7267\n",
      "Epoch 30 - Training Loss: 0.3430\n"
     ]
    },
    {
     "data": {
      "application/vnd.jupyter.widget-view+json": {
       "model_id": "888813282ab148119851af2eaa4d5459",
       "version_major": 2,
       "version_minor": 0
      },
      "text/plain": [
       "Validation: |          | 0/? [00:00<?, ?it/s]"
      ]
     },
     "metadata": {},
     "output_type": "display_data"
    },
    {
     "name": "stderr",
     "output_type": "stream",
     "text": [
      "Epoch 31, global step 9696: 'val_loss' was not in top 3\n"
     ]
    },
    {
     "name": "stdout",
     "output_type": "stream",
     "text": [
      "Epoch 31 - Validation Loss: 0.7490\n",
      "Epoch 31 - Training Loss: 0.2994\n"
     ]
    }
   ],
   "source": [
    "import os\n",
    "from pytorch_lightning.callbacks import EarlyStopping, ModelCheckpoint\n",
    "from pytorch_lightning import Trainer\n",
    "\n",
    "\n",
    "\n",
    "\n",
    "for model_key, attribute in attributes.items():\n",
    "    print(f\"{attribute['train_dataset']}_{attribute['lr']}\")\n",
    "\n",
    "    model_name = attribute[\"model\"].__class__.__name__\n",
    "    print(model_name, \"here\")\n",
    "    # Extract the learning rate (if present)\n",
    "    lr = attribute.get(\"lr\", None)  # Get learning rate, default to None if not present\n",
    "    \n",
    "    # Extract the train and validation datasets\n",
    "    train_dataset = attribute[\"train_dataset\"]\n",
    "    val_dataset = attribute[\"val_dataset\"]\n",
    "    \n",
    "    # Determine the dataset type (train_dataset_smote or train_dataset)\n",
    "    dataset_type = 'train_dataset_smote' if train_dataset == train_dataset_smote else 'train_dataset'\n",
    "\n",
    "\n",
    "    # Define EarlyStopping callback\n",
    "    early_stopping_callback = EarlyStopping(\n",
    "        monitor='val_loss',\n",
    "        patience=100,\n",
    "        verbose=True,\n",
    "        mode='min',\n",
    "        check_finite=True\n",
    "    )\n",
    "\n",
    "    print(model_name, \"here\")\n",
    "    # Modify ModelCheckpoint callback to use a custom filename with placeholders\n",
    "    \n",
    "    \n",
    "    # Create a model name based on the above information\n",
    "    model_identifier = f\"{model_name}_lr_{lr}_dataset_{dataset_type}\"\n",
    "    \n",
    "    model = attribute[\"model\"]\n",
    "    lr = attribute[\"lr\"]\n",
    "    train_dataset = attribute[\"train_dataset\"]\n",
    "    dataset_type = 'train_dataset_smote' if train_dataset == train_dataset_smote else 'train_dataset_inception'\n",
    "\n",
    "    # Print the model identifier for clarity\n",
    "    print(f\"Training model: {model_identifier}\")\n",
    "\n",
    "    checkpoint_callback = ModelCheckpoint(\n",
    "        dirpath=f\"checkpoints_v1/{model_identifier}\",\n",
    "        filename='{epoch}_valacc_{val_acc:.4f}_trainacc_{train_acc:.4f}',\n",
    "        save_top_k=3,\n",
    "        verbose=True,\n",
    "        monitor='val_loss',\n",
    "        mode='min'\n",
    "    )\n",
    "\n",
    "    trainer = Trainer(\n",
    "        max_epochs=200,\n",
    "        callbacks=[early_stopping_callback, checkpoint_callback],\n",
    "    )\n",
    "    \n",
    "    # Train the model\n",
    "    model = ChronoModel(attribute)\n",
    "    trainer.fit(model)\n",
    "    print(trainer.callback_metrics)\n",
    "\n"
   ]
  },
  {
   "cell_type": "code",
   "execution_count": 40,
   "metadata": {},
   "outputs": [
    {
     "name": "stdout",
     "output_type": "stream",
     "text": [
      "tensor(0.6296, device='cuda:0')\n"
     ]
    }
   ],
   "source": [
    "print(trainer.callback_metrics['train_loss'])"
   ]
  },
  {
   "cell_type": "code",
   "execution_count": 38,
   "metadata": {},
   "outputs": [
    {
     "ename": "AttributeError",
     "evalue": "'ChronoModel' object has no attribute 'val_loss'",
     "output_type": "error",
     "traceback": [
      "\u001b[1;31m---------------------------------------------------------------------------\u001b[0m",
      "\u001b[1;31mAttributeError\u001b[0m                            Traceback (most recent call last)",
      "Cell \u001b[1;32mIn[38], line 1\u001b[0m\n\u001b[1;32m----> 1\u001b[0m model\u001b[38;5;241m.\u001b[39mval_loss\n",
      "File \u001b[1;32mc:\\Users\\zokov\\.conda\\envs\\py3\\Lib\\site-packages\\torch\\nn\\modules\\module.py:1709\u001b[0m, in \u001b[0;36mModule.__getattr__\u001b[1;34m(self, name)\u001b[0m\n\u001b[0;32m   1707\u001b[0m     \u001b[38;5;28;01mif\u001b[39;00m name \u001b[38;5;129;01min\u001b[39;00m modules:\n\u001b[0;32m   1708\u001b[0m         \u001b[38;5;28;01mreturn\u001b[39;00m modules[name]\n\u001b[1;32m-> 1709\u001b[0m \u001b[38;5;28;01mraise\u001b[39;00m \u001b[38;5;167;01mAttributeError\u001b[39;00m(\u001b[38;5;124mf\u001b[39m\u001b[38;5;124m\"\u001b[39m\u001b[38;5;124m'\u001b[39m\u001b[38;5;132;01m{\u001b[39;00m\u001b[38;5;28mtype\u001b[39m(\u001b[38;5;28mself\u001b[39m)\u001b[38;5;241m.\u001b[39m\u001b[38;5;18m__name__\u001b[39m\u001b[38;5;132;01m}\u001b[39;00m\u001b[38;5;124m'\u001b[39m\u001b[38;5;124m object has no attribute \u001b[39m\u001b[38;5;124m'\u001b[39m\u001b[38;5;132;01m{\u001b[39;00mname\u001b[38;5;132;01m}\u001b[39;00m\u001b[38;5;124m'\u001b[39m\u001b[38;5;124m\"\u001b[39m)\n",
      "\u001b[1;31mAttributeError\u001b[0m: 'ChronoModel' object has no attribute 'val_loss'"
     ]
    }
   ],
   "source": [
    "model.val_loss"
   ]
  },
  {
   "cell_type": "code",
   "execution_count": 37,
   "metadata": {},
   "outputs": [
    {
     "name": "stdout",
     "output_type": "stream",
     "text": [
      "93\n",
      "lightning_logs\n",
      "d:\\Vikas\\lie_detection\\BrainWaves\\lightning_logs\\version_93\n"
     ]
    }
   ],
   "source": [
    "# After training\n",
    "print(trainer.logger.version)  # Unique version/run identifier\n",
    "print(trainer.logger.name)     # Name of the logger\n",
    "print(trainer.logger.log_dir)  # Full path to logging directory"
   ]
  },
  {
   "cell_type": "code",
   "execution_count": null,
   "metadata": {},
   "outputs": [],
   "source": []
  }
 ],
 "metadata": {
  "kernelspec": {
   "display_name": "py3",
   "language": "python",
   "name": "python3"
  },
  "language_info": {
   "codemirror_mode": {
    "name": "ipython",
    "version": 3
   },
   "file_extension": ".py",
   "mimetype": "text/x-python",
   "name": "python",
   "nbconvert_exporter": "python",
   "pygments_lexer": "ipython3",
   "version": "3.11.9"
  }
 },
 "nbformat": 4,
 "nbformat_minor": 4
}
